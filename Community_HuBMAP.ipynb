{
 "cells": [
  {
   "cell_type": "markdown",
   "metadata": {},
   "source": [
    "# Generic Nearest Neighborhood Analysis"
   ]
  },
  {
   "cell_type": "code",
   "execution_count": null,
   "metadata": {},
   "outputs": [],
   "source": [
    "import pandas as pd\n",
    "import numpy as np\n",
    "from sklearn.neighbors import NearestNeighbors\n",
    "import time\n",
    "import sys\n",
    "import matplotlib.pyplot as plt\n",
    "import math\n",
    "import os\n",
    "\n",
    "from sklearn.cluster import MiniBatchKMeans\n",
    "import seaborn as sns\n",
    "#import scanpy as sc\n",
    "\n",
    "def get_windows(job,n_neighbors):\n",
    "    start_time,idx,tissue_name,indices = job\n",
    "    job_start = time.time()\n",
    "    \n",
    "    print (\"Starting:\", str(idx+1)+'/'+str(len(exps)),': ' + exps[idx])\n",
    "\n",
    "    tissue = tissue_group.get_group(tissue_name)\n",
    "    to_fit = tissue.loc[indices][[X,Y]].values\n",
    "\n",
    "    fit = NearestNeighbors(n_neighbors=n_neighbors).fit(tissue[[X,Y]].values)\n",
    "    m = fit.kneighbors(to_fit)\n",
    "\n",
    "    #sort_neighbors\n",
    "    args = m[0].argsort(axis = 1)\n",
    "    add = np.arange(m[1].shape[0])*m[1].shape[1]\n",
    "    sorted_indices = m[1].flatten()[args+add[:,None]]\n",
    "\n",
    "    neighbors = tissue.index.values[sorted_indices]\n",
    "   \n",
    "    end_time = time.time()\n",
    "   \n",
    "    print (\"Finishing:\", str(idx+1)+\"/\"+str(len(exps)),\": \"+ exps[idx],end_time-job_start,end_time-start_time)\n",
    "    return neighbors.astype(np.int32)\n"
   ]
  },
  {
   "cell_type": "code",
   "execution_count": null,
   "metadata": {},
   "outputs": [],
   "source": [
    "#Choose this information and input based on above\n",
    "ks = [100,200] # k=5 means it collects 5 nearest neighbors for each center cell\n",
    "path_to_data = \"G:/HuBMAP/B008_12/Neighborhoods/Individual_Neighborhoods/B004_12_Neighborhoods_Ind_combined.csv\"\n",
    "\n",
    "X = 'x'\n",
    "Y = 'y'\n",
    "reg = 'unique_region'\n",
    "file_type = 'csv'\n",
    "\n",
    "cluster_col = 'Neighborhood'\n",
    "cellhier_path = 'G:/cellhier'\n",
    "keep_cols = [X,Y,reg,cluster_col]\n",
    "save_path = 'G:/HuBMAP/B008_12/Neighborhoods/'"
   ]
  },
  {
   "cell_type": "markdown",
   "metadata": {},
   "source": [
    "# Data Preprocessing"
   ]
  },
  {
   "cell_type": "markdown",
   "metadata": {},
   "source": [
    "##########################"
   ]
  },
  {
   "cell_type": "code",
   "execution_count": null,
   "metadata": {},
   "outputs": [],
   "source": [
    "#Import Data\n",
    "n_neighbors = max(ks)\n",
    "sys.path.append(cellhier_path)\n",
    "from cellhier.general import *\n",
    "\n",
    "cells = pd.read_csv(path_to_data)\n",
    "cells = pd.concat([cells,pd.get_dummies(cells[cluster_col])],1)\n",
    "sum_cols = cells[cluster_col].unique()\n",
    "values = cells[sum_cols].values"
   ]
  },
  {
   "cell_type": "code",
   "execution_count": null,
   "metadata": {},
   "outputs": [],
   "source": [
    "#Get each region\n",
    "tissue_group = cells[[X,Y,reg]].groupby(reg)\n",
    "exps = list(cells[reg].unique())\n",
    "tissue_chunks = [(time.time(),exps.index(t),t,a) for t,indices in tissue_group.groups.items() for a in np.array_split(indices,1)] \n",
    "tissues = [get_windows(job,n_neighbors) for job in tissue_chunks]"
   ]
  },
  {
   "cell_type": "code",
   "execution_count": null,
   "metadata": {},
   "outputs": [],
   "source": [
    "#Loop over k to compute neighborhoods\n",
    "out_dict = {}\n",
    "for k in ks:\n",
    "    for neighbors,job in zip(tissues,tissue_chunks):\n",
    "\n",
    "        chunk = np.arange(len(neighbors))#indices\n",
    "        tissue_name = job[2]\n",
    "        indices = job[3]\n",
    "        window = values[neighbors[chunk,:k].flatten()].reshape(len(chunk),k,len(sum_cols)).sum(axis = 1)\n",
    "        out_dict[(tissue_name,k)] = (window.astype(np.float16),indices)\n",
    "        \n",
    "windows = {}\n",
    "for k in ks:\n",
    "   \n",
    "    window = pd.concat([pd.DataFrame(out_dict[(exp,k)][0],index = out_dict[(exp,k)][1].astype(int),columns = sum_cols) for exp in exps],0)\n",
    "    window = window.loc[cells.index.values]\n",
    "    window = pd.concat([cells[keep_cols],window],1)\n",
    "    windows[k] = window"
   ]
  },
  {
   "cell_type": "code",
   "execution_count": null,
   "metadata": {},
   "outputs": [],
   "source": [
    "#Fill in based on above\n",
    "k = 100\n",
    "n_neighborhoods = 20\n",
    "neighborhood_name = \"neighborhood\"+str(k)\n",
    "k_centroids = {}"
   ]
  },
  {
   "cell_type": "code",
   "execution_count": null,
   "metadata": {},
   "outputs": [],
   "source": [
    "#producing what to plot\n",
    "windows2 = windows[k]\n",
    "windows2[cluster_col] = cells[cluster_col]\n",
    "\n",
    "km = MiniBatchKMeans(n_clusters = n_neighborhoods,random_state=0)\n",
    "\n",
    "labels = km.fit_predict(windows2[sum_cols].values)\n",
    "k_centroids[k] = km.cluster_centers_\n",
    "cells[neighborhood_name] = labels"
   ]
  },
  {
   "cell_type": "code",
   "execution_count": null,
   "metadata": {
    "scrolled": true
   },
   "outputs": [],
   "source": [
    "#modify figure size aesthetics for each neighborhood\n",
    "plt.rcParams[\"legend.markerscale\"] = 5\n",
    "figs = catplot(cells,X = 'Xcorr',Y='Ycorr',exp = 'array',\n",
    "               hue = 'neighborhood'+str(k),invert_y=True,size = 1,figsize=8)"
   ]
  },
  {
   "cell_type": "code",
   "execution_count": null,
   "metadata": {},
   "outputs": [],
   "source": [
    "neigh_list = [1,6,3]"
   ]
  },
  {
   "cell_type": "code",
   "execution_count": null,
   "metadata": {},
   "outputs": [],
   "source": [
    "#this plot shows the types of cells (ClusterIDs) in the different niches (0-9)\n",
    "k_to_plot = k\n",
    "niche_clusters = (k_centroids[k_to_plot])\n",
    "tissue_avgs = values.mean(axis = 0)\n",
    "fc = np.log2(((niche_clusters+tissue_avgs)/(niche_clusters+tissue_avgs).sum(axis = 1, keepdims = True))/tissue_avgs)\n",
    "fc = pd.DataFrame(fc,columns = sum_cols)\n",
    "s=sns.clustermap(fc.iloc[neigh_list,:], vmin =-3,vmax = 3,cmap = 'bwr',figsize=(15,8))\n",
    "#s.savefig(save_path+\"celltypes_perniche_\"+\"_\"+str(k)+\".png\", dpi=600)"
   ]
  },
  {
   "cell_type": "code",
   "execution_count": null,
   "metadata": {},
   "outputs": [],
   "source": [
    "#modify figure size aesthetics for each neighborhood\n",
    "plt.rcParams[\"legend.markerscale\"] = 5\n",
    "figs = catplot(cells.loc[cells.neighborhood100.isin(neigh_list)],X = 'Xcorr',Y='Ycorr',exp = 'array',\n",
    "               hue = 'neighborhood'+str(k),invert_y=True,size = 1,figsize=8)"
   ]
  },
  {
   "cell_type": "code",
   "execution_count": null,
   "metadata": {},
   "outputs": [],
   "source": [
    "#this plot shows the types of cells (ClusterIDs) in the different niches (0-9)\n",
    "#font size of graph\n",
    "SMALL_SIZE = 14\n",
    "MEDIUM_SIZE = 16\n",
    "BIGGER_SIZE = 18\n",
    "\n",
    "#Settings for graph\n",
    "plt.rc('font', size=SMALL_SIZE)          # controls default text sizes\n",
    "plt.rc('axes', titlesize=SMALL_SIZE)     # fontsize of the axes title\n",
    "plt.rc('axes', labelsize=MEDIUM_SIZE)    # fontsize of the x and y labels\n",
    "plt.rc('xtick', labelsize=SMALL_SIZE)    # fontsize of the tick labels\n",
    "plt.rc('ytick', labelsize=SMALL_SIZE)    # fontsize of the tick labels\n",
    "plt.rc('legend', fontsize=SMALL_SIZE)    # legend fontsize\n",
    "plt.rc('figure', titlesize=BIGGER_SIZE)  # fontsize of the figure title"
   ]
  },
  {
   "cell_type": "code",
   "execution_count": null,
   "metadata": {},
   "outputs": [],
   "source": [
    "col_list = list(sum_cols)\n",
    "hm = cells.groupby(['neighborhood100'])[col_list].mean()\n",
    "sns.clustermap(hm, cmap='viridis', standard_scale=0)"
   ]
  },
  {
   "cell_type": "code",
   "execution_count": null,
   "metadata": {},
   "outputs": [],
   "source": [
    "#this plot shows the types of cells (ClusterIDs) in the different niches (0-9)\n",
    "k_to_plot = k\n",
    "niche_clusters = (k_centroids[k_to_plot])\n",
    "tissue_avgs = values.mean(axis = 0)\n",
    "fc = np.log2(((niche_clusters+tissue_avgs)/(niche_clusters+tissue_avgs).sum(axis = 1, keepdims = True))/tissue_avgs)\n",
    "fc = pd.DataFrame(fc,columns = sum_cols)\n",
    "s=sns.clustermap(fc, vmin =-3,vmax = 3,cmap = 'bwr', figsize=(15,15))\n",
    "#s.savefig(save_path+\"celltypes_perniche_\"+\"_\"+str(k)+\".png\", dpi=600)"
   ]
  },
  {
   "cell_type": "code",
   "execution_count": null,
   "metadata": {},
   "outputs": [],
   "source": [
    "n_conversion_30 = {\n",
    "    0: 'Follicle',\n",
    "    1: 'Secretory Epithelial',\n",
    "    2: 'Smooth Muscle',\n",
    "    3: 'Plasma Cell Enriched',\n",
    "    4: 'CD8+ T Enriched IEL',\n",
    "    5: 'Adaptive Immune Enriched',\n",
    "    6: 'Plasma Cell Enriched',\n",
    "    7: 'Mature Epithelial',\n",
    "    8: 'Stroma',\n",
    "    9: 'CD66+ Mature Epithelial',\n",
    "   \n",
    "    10: 'Stroma',\n",
    "    11: 'Follicle',\n",
    "    12: 'CD8+ T Enriched IEL',\n",
    "    13: 'Smooth Muscle',\n",
    "    14: 'Smooth Muscle',\n",
    "    15: 'Innate Immune Enriched',\n",
    "    16: 'Adaptive Immune Enriched',\n",
    "    17: 'Secretory Epithelial',\n",
    "    18: 'Secretory Epithelial',\n",
    "    19: 'Plasma Cell Enriched',\n",
    "    \n",
    "\n",
    "}\n",
    "cells['Community']=cells['neighborhood100'].map(n_conversion_30)\n",
    "cells['Community'].unique()"
   ]
  },
  {
   "cell_type": "code",
   "execution_count": null,
   "metadata": {},
   "outputs": [],
   "source": [
    "#modify figure size aesthetics for each neighborhood\n",
    "plt.rcParams[\"legend.markerscale\"] = 15\n",
    "figs = catplot(cells,X = 'Xcorr',Y='Ycorr',exp = 'array',\n",
    "               hue = 'Community',invert_y=True,size = 1,figsize=15)"
   ]
  },
  {
   "cell_type": "code",
   "execution_count": null,
   "metadata": {},
   "outputs": [],
   "source": [
    "pal_color = {\n",
    "'CD44hi Tumor': 'tan',\n",
    " 'Tumor': 'gray',\n",
    " 'Ki67+ Tumor': 'beige',\n",
    " 'Ki67+ TYRP1hi Tumor': 'brown',\n",
    " 'Ki67+ CD71hi Tumor': 'orange',\n",
    " 'APC Enriched Tumor': 'green',\n",
    " 'Inflamed Tumor': 'magenta',\n",
    " 'Vascularized Immune Infiltrate': 'black',\n",
    " 'Unproductive T cell Tumor Interface': 'red',\n",
    " 'Immune Infiltrate': 'skyblue',\n",
    " 'TYRP1hi Tumor': 'olive',\n",
    " 'Productive T cell Tumor Interface': 'blue',\n",
    " 'Neutrophil Enriched Immune Infiltrate': 'yellow',\n",
    " 'Neutrophil Enriched': 'gold'\n",
    "}\n",
    "\n",
    "pal_color_cells = {\n",
    "  'EGFR+ Epithelial cell':'blue',\n",
    " 'Smooth muscle cell':'red',\n",
    " 'Epithelial cell':'yellow',\n",
    "  'Nerve cell':'magenta',\n",
    "  'Macrophage':'orange',  \n",
    "    'CD4+ Treg':'green',\n",
    "    'Endothelial cell':'brown', \n",
    "     'CD8+ T cell':'black',\n",
    " 'Intestinal Epithelial cell':'gray',\n",
    "  'Neutrophil':'skyblue',\n",
    " 'Parietal cell':'fuchsia',\n",
    "   'Plasma cell':'gold',  \n",
    "     'NK cell':'plum',\n",
    "   'CD4+ T cell':'yellowgreen',\n",
    "   'CK7+ Epithelial cell':'tan',\n",
    "   'Neck cell':'navy',\n",
    "  'Neuroendocrine cell':'bisque',   \n",
    " 'Chief cell':'goldenrod',\n",
    "  'Goblet cell':'blueviolet',\n",
    "  'Foveolar cell':'darkorange',   \n",
    " 'Stromal cell':'teal',\n",
    " 'PDPN+ Stromal cell':'olive',\n",
    " 'p63+ EGFR+ Epithelial cell':'dimgray',\n",
    " 'Gastric mucouse secreting cell':'indigo',\n",
    " 'Biglycan+ Stromal cell':'lightcoral',\n",
    " 'Dendritic cell':'cyan',\n",
    " 'Paneth cell':'ivory',\n",
    " 'B cell':'beige',\n",
    " 'Squamous Epithelial cell':'darkblue',\n",
    " 'Immune unknown cell':'lightcyan',\n",
    " 'p63+ Epithelial cell':'royalblue',\n",
    "}"
   ]
  },
  {
   "cell_type": "code",
   "execution_count": null,
   "metadata": {},
   "outputs": [],
   "source": [
    "n_conversion_c = {\n",
    "'Plasma Cell Enriched':'Immune',\n",
    " 'Mature Epithelial':'Epithelial',\n",
    " 'Innate Immune Enriched':'Immune',\n",
    " 'Stroma':'Stroma',\n",
    " 'Follicle':'Immune',\n",
    " 'Adaptive Immune Enriched':'Immune',\n",
    " 'Smooth Muscle':'Smooth Muscle',\n",
    " 'Secretory Epithelial':'Epithelial',\n",
    " 'CD66+ Mature Epithelial':'Epithelial',\n",
    " 'CD8+ T Enriched IEL':'Epithelial'\n",
    "    \n",
    "\n",
    "}\n",
    "cells['Major Community']=cells['Community'].map(n_conversion_c)\n",
    "cells['Major Community'].unique()"
   ]
  },
  {
   "cell_type": "code",
   "execution_count": null,
   "metadata": {},
   "outputs": [],
   "source": [
    "com_pal = {'Immune':'blue', 'Epithelial':'green', 'Stroma':'orange', 'Smooth Muscle':'red'}"
   ]
  },
  {
   "cell_type": "code",
   "execution_count": null,
   "metadata": {},
   "outputs": [],
   "source": [
    "conver = {'Immune':'Mucosa', 'Epithelial':'Mucosa', 'Stroma':'Subucosa', 'Smooth Muscle':'Muscle'}\n",
    "cells['Tissue Segment']=cells['Major Community'].map(conver)\n",
    "cells['Tissue Segment'].unique()"
   ]
  },
  {
   "cell_type": "code",
   "execution_count": null,
   "metadata": {},
   "outputs": [],
   "source": [
    "#modify figure size aesthetics for each neighborhood\n",
    "plt.rcParams[\"legend.markerscale\"] = 15\n",
    "figs = catplot(cells,X = 'Xcorr',Y='Ycorr',exp = 'array',\n",
    "               hue = 'Tissue Segment',invert_y=True,size = 1,figsize=15)"
   ]
  },
  {
   "cell_type": "code",
   "execution_count": null,
   "metadata": {},
   "outputs": [],
   "source": [
    "#modify figure size aesthetics for each neighborhood\n",
    "plt.rcParams[\"legend.markerscale\"] = 15\n",
    "figs = catplot(cells,X = 'Xcorr',Y='Ycorr',exp = 'array',\n",
    "               hue = 'Major Community',invert_y=True,size = 1,figsize=15, palette=com_pal)"
   ]
  },
  {
   "cell_type": "code",
   "execution_count": null,
   "metadata": {},
   "outputs": [],
   "source": [
    "cell_list = list(cells['Cell Type'].unique())\n",
    "neigh_list = list(cells.Community.unique())\n",
    "color_list=list(pal_color_cells.values())\n",
    "dict_cell = dict(zip(cell_list, color_list))\n",
    "dict_neigh = dict(zip(neigh_list, color_list))\n",
    "dict_neigh"
   ]
  },
  {
   "cell_type": "code",
   "execution_count": null,
   "metadata": {},
   "outputs": [],
   "source": [
    "list(cells['Major Community'].unique())"
   ]
  },
  {
   "cell_type": "code",
   "execution_count": null,
   "metadata": {},
   "outputs": [],
   "source": [
    "dict_comm = {'Plasma Cell Enriched': 'yellow',\n",
    " 'Mature Epithelial': 'magenta',\n",
    " 'Innate Immune Enriched': 'brown',\n",
    " 'Stroma': 'gray',\n",
    " 'Follicle': 'blue',\n",
    " 'Adaptive Immune Enriched': 'orange',\n",
    " 'Smooth Muscle': 'red',\n",
    " 'Secretory Epithelial': 'purple',\n",
    " 'CD66+ Mature Epithelial': 'teal',\n",
    " 'CD8+ T Enriched IEL': 'green'}"
   ]
  },
  {
   "cell_type": "code",
   "execution_count": null,
   "metadata": {},
   "outputs": [],
   "source": [
    "dict_neigh2 = {'Plasma Cell Enriched': 'yellow',\n",
    " 'Mature Epithelial': 'magenta',\n",
    " 'Innate Immune Enriched': 'brown',\n",
    " 'Stroma': 'gray',\n",
    " 'Follicle': 'blue',\n",
    " 'Adaptive Immune Enriched': 'orange',\n",
    " 'Smooth Muscle': 'red',\n",
    " 'Secretory Epithelial': 'purple',\n",
    " 'CD66+ Mature Epithelial': 'teal',\n",
    " 'CD8+ T Enriched IEL': 'green'}"
   ]
  },
  {
   "cell_type": "code",
   "execution_count": null,
   "metadata": {},
   "outputs": [],
   "source": [
    "#modify figure size aesthetics for each neighborhood\n",
    "plt.rcParams[\"legend.markerscale\"] = 15\n",
    "figs_n = catplot(cells,X = 'Xcorr',Y='Ycorr',exp = 'array',\n",
    "               hue = 'Community',invert_y=True,size = 1,figsize=8, palette=dict_neigh2)"
   ]
  },
  {
   "cell_type": "code",
   "execution_count": null,
   "metadata": {},
   "outputs": [],
   "source": [
    "cell_map = {\n",
    "    'NK': 'blue',\n",
    " 'Enterocyte': 'magenta',\n",
    " 'MUC1+ Enterocyte': 'yellow',\n",
    " 'TA': 'skyblue',\n",
    " 'CD66+ Enterocyte': 'darkorange',\n",
    " 'Paneth': 'green',\n",
    " 'Smooth muscle': 'red',\n",
    " 'Cycling TA': 'tan',\n",
    " 'M1 Macrophage': 'gray',\n",
    " 'Goblet': 'indigo',\n",
    " 'Neuroendocrine': 'yellowgreen',\n",
    " 'CD57+ Enterocyte': 'lightsalmon',\n",
    " 'Lymphatic': 'plum',\n",
    " 'CD8+ T': 'gold',\n",
    " 'DC': 'blueviolet',\n",
    " 'M2 Macrophage': 'bisque',\n",
    " 'B': 'navy',\n",
    " 'Neutrophil': 'goldenrod',\n",
    " 'Endothelial': 'black',\n",
    " 'Plasma': 'yellow',\n",
    " 'CD4+ T cell': 'brown',\n",
    " 'Stroma': 'dimgray',\n",
    " 'Nerve': 'olive',\n",
    " 'ICC': 'teal',\n",
    " 'CD7+ Immune': 'lightcoral'}\n",
    "\n",
    "\n",
    "neigh_map = {\n",
    " 'Transit Amplifying Zone': 'darkblue',\n",
    " 'Microvasculature': 'black',\n",
    " 'Adatpive Immune Enriched': 'orange',\n",
    " 'Glandular Epithelial': 'darkorange',\n",
    " 'CD66+ Mature Epithelial': 'firebrick',\n",
    " 'Stroma & Innate Immune': 'brown',\n",
    " 'CD8+ T Enriched IEL': 'green',\n",
    " 'Mature Epithelial': 'magenta',\n",
    " 'Innate Immune Enriched': 'skyblue',\n",
    " 'Outer Follicle': 'navy',\n",
    " 'Plasma Cell Enriched': 'yellow',\n",
    " 'Innervated Stroma': 'blueviolet',\n",
    " 'Stroma': 'gray',\n",
    " 'Macrovasculature': 'gold',\n",
    " 'Secretory Epithelial': 'yellowgreen',\n",
    " 'Smooth Muscle': 'red',\n",
    " 'Innervated Smooth Muscle': 'lightgreen',\n",
    " 'Inner Follicle': 'blue',\n",
    " 'Smooth Muscle & Innate Immune': 'tan',\n",
    " 'Paneth Enriched': 'lightblue'}\n",
    "\n",
    "comm_map = {'Plasma Cell Enriched': 'yellow',\n",
    " 'Mature Epithelial': 'magenta',\n",
    " 'Innate Immune Enriched': 'brown',\n",
    " 'Stroma': 'gray',\n",
    " 'Follicle': 'blue',\n",
    " 'Adaptive Immune Enriched': 'orange',\n",
    " 'Smooth Muscle': 'red',\n",
    " 'Secretory Epithelial': 'purple',\n",
    " 'CD66+ Mature Epithelial': 'teal',\n",
    " 'CD8+ T Enriched IEL': 'green'}"
   ]
  },
  {
   "cell_type": "code",
   "execution_count": null,
   "metadata": {},
   "outputs": [],
   "source": [
    "neigh_data1 = pd.DataFrame({\n",
    "    'Neighborhood':list(neigh_map.keys()),\n",
    "    'color':list(neigh_map.values())\n",
    "})\n",
    "neigh_data1.set_index(keys='Neighborhood',inplace=True)\n",
    "neigh_data1"
   ]
  },
  {
   "cell_type": "code",
   "execution_count": null,
   "metadata": {},
   "outputs": [],
   "source": [
    "neigh_data = pd.DataFrame({\n",
    "    'Neighborhood':list(comm_map.keys()),\n",
    "    'color':list(comm_map.values())\n",
    "})\n",
    "neigh_data.set_index(keys='Neighborhood',inplace=True)\n",
    "neigh_data"
   ]
  },
  {
   "cell_type": "code",
   "execution_count": null,
   "metadata": {},
   "outputs": [],
   "source": [
    "save_path = 'G:/HuBMAP/B008_12/Neighborhoods/'"
   ]
  },
  {
   "cell_type": "code",
   "execution_count": null,
   "metadata": {},
   "outputs": [],
   "source": [
    "#this plot shows the types of cells (ClusterIDs) in the different niches (0-9)\n",
    "sum_cols = cells['Neighborhood'].unique()\n",
    "values = cells[sum_cols].values\n",
    "sum_cols = cells['Neighborhood'].unique()\n",
    "#cells.rename(columns=n_conversion_cell, inplace=True)\n",
    "cells[sum_cols]\n",
    "\n",
    "#Find cell frequency within the neighborhoods\n",
    "cell_list = list(sum_cols)\n",
    "cell_list.append('Community')\n",
    "subset = cells[cell_list]\n",
    "niche_sub = subset.groupby('Community').sum()\n",
    "niche_df = niche_sub.apply(lambda x: x/x.sum() * 10, axis=1)\n",
    "neigh_clusters = niche_df.to_numpy()\n",
    "\n",
    "tissue_avgs = values.mean(axis = 0)\n",
    "fc_2 = np.log2(((neigh_clusters+tissue_avgs)/(neigh_clusters+tissue_avgs).sum(axis = 1, keepdims = True))/tissue_avgs)\n",
    "fc_2 = pd.DataFrame(fc_2,columns = sum_cols)\n",
    "fc_2.set_index(niche_df.index, inplace=True)\n",
    "s=sns.clustermap(fc_2, vmin =-3,vmax = 3,cmap = 'bwr', figsize=(12,8), row_colors=[neigh_data.reindex(fc_2.index)['color']],\\\n",
    "                cbar_pos=(0.01,0.07,0.03,0.1))\n",
    "\n",
    "s.ax_row_dendrogram.set_visible(False)\n",
    "s.ax_col_dendrogram.set_visible(False)\n",
    "s.ax_heatmap.set_ylabel(\"\", labelpad=25)\n",
    "s.ax_heatmap.tick_params(axis='y', pad=25)\n",
    "s.ax_heatmap.yaxis.set_ticks_position(\"left\")\n",
    "\n",
    "s.savefig(save_path+\"community_heatmap_20_100nn.png\", dpi=600)\n",
    "print(save_path)"
   ]
  },
  {
   "cell_type": "code",
   "execution_count": null,
   "metadata": {},
   "outputs": [],
   "source": [
    "for n,f in enumerate(figs_cs):\n",
    "    f.savefig(save_path+'HuBMAP_cellmap{}_hr.png'.format(n), dpi=600)\n",
    "for n,f in enumerate(figs_ns):\n",
    "    f.savefig(save_path+'HuBMAP_commmap{}_hr.png'.format(n), dpi=600)"
   ]
  },
  {
   "cell_type": "code",
   "execution_count": null,
   "metadata": {},
   "outputs": [],
   "source": [
    "cells_out = cells.drop(columns=sum_cols)\n",
    "cells_out.columns"
   ]
  },
  {
   "cell_type": "code",
   "execution_count": null,
   "metadata": {},
   "outputs": [],
   "source": [
    "drop_list = [ 'neighborhood100','Unnamed: 0',]\n",
    "cells_out.drop(columns=drop_list, inplace=True)\n",
    "cells_out.columns"
   ]
  },
  {
   "cell_type": "code",
   "execution_count": null,
   "metadata": {},
   "outputs": [],
   "source": [
    "# df_dict = {}\n",
    "# for tissue in list(cells_out.Tissue_location.unique()):\n",
    "#     df_dict[tissue] = cells_out.loc[cells_out.Tissue_location==tissue]\n",
    "#     df_dict[tissue].to_csv(save_path+tissue+'_'+'4_12_HuBMAP_Neighborhoods.csv')"
   ]
  },
  {
   "cell_type": "code",
   "execution_count": null,
   "metadata": {},
   "outputs": [],
   "source": [
    "cells_out.to_csv(save_path+'5_2_HuBMAP_Communities.csv')"
   ]
  },
  {
   "cell_type": "code",
   "execution_count": null,
   "metadata": {},
   "outputs": [],
   "source": []
  }
 ],
 "metadata": {
  "kernelspec": {
   "display_name": "Python 3",
   "language": "python",
   "name": "python3"
  },
  "language_info": {
   "codemirror_mode": {
    "name": "ipython",
    "version": 3
   },
   "file_extension": ".py",
   "mimetype": "text/x-python",
   "name": "python",
   "nbconvert_exporter": "python",
   "pygments_lexer": "ipython3",
   "version": "3.8.5"
  }
 },
 "nbformat": 4,
 "nbformat_minor": 2
}
